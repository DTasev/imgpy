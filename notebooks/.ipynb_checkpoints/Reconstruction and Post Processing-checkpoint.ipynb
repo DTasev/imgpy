{
 "cells": [
  {
   "cell_type": "code",
   "execution_count": null,
   "metadata": {
    "collapsed": true
   },
   "outputs": [],
   "source": [
    "# some outputs for the future, don't mind this block\n",
    "\n",
    "FINDING_COR_ON_RADIOGRAMS_OUTPUT=\"\"\"\n",
    "Found anaconda at /home/dtasev/anaconda2/bin\n",
    " >> WARNING: No output path specified, no output will be produced!\n",
    "Sample: [========================================]16 / 16\n",
    "Data shape (16, 1964, 1070)\n",
    "*********************************************\n",
    "*\n",
    "*     Running IMOPR with action COR. This works ONLY with sinograms\n",
    "*\n",
    "*********************************************\n",
    " ---Importing tool tomopy\n",
    " ---Tool loaded. Elapsed time: 5.57899475098e-05 sec.\n",
    "Calculating projection angles..\n",
    "Running COR for index 0 [ 688.8125]\n",
    "Running COR for index 100 [ 1077.5234375]\n",
    "Running COR for index 200 [ 690.484375]\n",
    "Running COR for index 300 [ 687.140625]\n",
    "Running COR for index 400 [ 683.796875]\n",
    "Running COR for index 500 [ 677.109375]\n",
    "Running COR for index 600 [ 671.2578125]\n",
    "Running COR for index 700 [ 667.078125]\n",
    "Running COR for index 800 [ 662.8984375]\n",
    "Running COR for index 900 [ 661.2265625]\n",
    "Running COR for index 1000 [ 662.48046875]\n",
    "Running COR for index 1100 [ 665.40625]\n",
    "Running COR for index 1200 [ 670.00390625]\n",
    "Running COR for index 1300 [ 676.2734375]\n",
    "Running COR for index 1400 [ 681.2890625]\n",
    "Running COR for index 1500 [ 686.3046875]\n",
    "Total execution time was 143.361360073 sec\n",
    "\"\"\"\n",
    "\n",
    "CONVERT_TO_SINOGRAMS_OUTPUT=\"\"\"\n",
    "Found anaconda at /home/dtasev/anaconda2/bin\n",
    "Python 2.7.13 :: Anaconda custom (64-bit)\n",
    "Sample: [========================================]1570 / 1570\n",
    "Saving tif images: [========================================]1964 / 1964\n",
    "Total execution time was 239.967664957 sec\n",
    "\"\"\"\n",
    "\n",
    "RECONSTRUCTION_RUN_OUTPUT=\"\"\"\n",
    "Found anaconda at /home/dtasev/anaconda2/bin\n",
    "Python 2.7.13 :: Anaconda custom (64-bit)\n",
    " > Note: Progress bar library TQDM not available. To install locally please use pip install tqdm. Falling back to ASCII progress bar.\n",
    " > Note: Running process on 8 cores.\n",
    " ---Importing tool tomopy Memory usage before execution:  141980 KB, 138.65234375 MB\n",
    " ---Tool loaded. Elapsed time: 0.000333070755005 sec. Memory usage after execution:  141980 KB, 138.65234375 MB. Memory change: 0.0 MB\n",
    "Sample: [========================================]1 / 1\n",
    " > Note: Predicted memory usage for data: 12585.9207153 MB\n",
    "Sample: [========================================]1964 / 1964\n",
    " > Note: Running the default filtering.\n",
    " ---Starting non-iterative reconstruction algorithm with TomoPy. Mean COR: 539.683808554, Number of CORs provided 1964, Algorithm: gridrec... Memory usage before execution:  13063868 KB, 12757.6835938 MB\n",
    " ---Reconstructed 3D volume. Shape: (1964, 1070, 1070), and pixel data type: float32. Elapsed time: 252.014343977 sec. Memory usage after execution:  21832732 KB, 21321.0273438 MB. Memory change: 8563.34375 MB\n",
    " ---Starting saving slices of the reconstructed volume in: /home/dtasev/temp/presentation/reconstructed/reconstructed... Memory usage before execution:  21832732 KB, 21321.0273438 MB\n",
    "Saving tif images: [========================================]1964 / 1964\n",
    " ---Finished saving slices of the reconstructed volume in: /home/dtasev/temp/presentation/reconstructed/reconstructed Elapsed time: 74.7704501152 sec. Memory usage after execution:  21832732 KB, 21321.0273438 MB. Memory change: 0.0 MB\n",
    "Total execution time was 466.175639153 sec\n",
    "\"\"\""
   ]
  },
  {
   "cell_type": "code",
   "execution_count": null,
   "metadata": {},
   "outputs": [],
   "source": [
    "# Setup the package, this is done automatically with the startup scripts\n",
    "import os\n",
    "import sys\n",
    "\n",
    "# Setup some constants\n",
    "HOME = os.path.expanduser('~')\n",
    "CHADWICK_PATH = os.path.join(HOME, 'temp', 'presentation')\n",
    "CHADWICK_SAMPLE_PATH = os.path.join(CHADWICK_PATH, 'pre_processed')\n",
    "SINOGRAMS_PATH = os.path.join(CHADWICK_PATH, 'sinograms')\n",
    "SINOGRAMS_MLOG_PATH = os.path.join(CHADWICK_PATH, 'sinograms_mlog')\n",
    "MANUAL_COR_OUTPUT_PATH = os.path.join(CHADWICK_PATH, 'manual_cor')\n",
    "RECONSTRUCTION_OUTPUT_PATH = os.path.join(CHADWICK_PATH, 'reconstructed')\n",
    "RECONSTRUCTION_READY_PATH = os.path.join(CHADWICK_PATH, 'RB1640003_tomopy_dimitar')\n",
    "RECONSTRUCTION_READY_MEDIAN_PATH = os.path.join(CHADWICK_PATH, 'RB1640003_tomopy_dimitar_median')\n",
    "\n",
    "ISIS_IMAGING_PATH = os.path.join(HOME, 'isis_imaging')\n",
    "print(HOME, CHADWICK_PATH, ISIS_IMAGING_PATH)\n",
    "sys.path[0]=ISIS_IMAGING_PATH\n",
    "\n",
    "import isis_imaging\n",
    "print(isis_imaging.__package__)\n",
    "\n",
    "# Setup matplotlib to use the notebook backend\n",
    "import matplotlib\n",
    "matplotlib.use('nbagg')\n",
    "from matplotlib import pyplot\n",
    "\n",
    "# Create matplotlib objects\n",
    "def show(image, idx=0):\n",
    "    fig, img_axes = pyplot.subplots(nrows=1,ncols=1)\n",
    "    \n",
    "    image_obj = img_axes.imshow(image.get_sample()[idx], cmap='Greys_r')\n",
    "\n",
    "    pyplot.show()\n",
    "\n",
    "# import package from isis_imaging's GUI part\n",
    "from isis_imaging.gui.stack_visualiser import sv_histogram\n",
    "\n",
    "# python abuse to plot the histograms on the same plot, it works by default in the package\n",
    "\n",
    "def plot_histograms_magically(data, idx1=0, idx2=None):\n",
    "    # save the original function reference\n",
    "    if idx2:\n",
    "        temp_func_storage = sv_histogram._show\n",
    "        def _temporary_empty_function(): pass\n",
    "        # set to a function that does nothing\n",
    "        sv_histogram.show_transparent(data.get_sample()[idx2].flatten(), \"Normal Contrast\", \"\")\n",
    "\n",
    "        # restore so that the plot is shown next time\n",
    "        sv_histogram._show = temp_func_storage\n",
    "\n",
    "    sv_histogram.show_transparent(data.get_sample()[idx1].flatten(), \"Low Contrast\", \"Magic\")    "
   ]
  },
  {
   "cell_type": "markdown",
   "metadata": {},
   "source": [
    "<br><br><br><br><br><br><br><br><br><br><br><br><br><br><br><br><br><br><br><br><br><br><br><br><br><br><br><br>\n",
    "# Special function to make it seem like we are doing work"
   ]
  },
  {
   "cell_type": "code",
   "execution_count": null,
   "metadata": {
    "collapsed": true
   },
   "outputs": [],
   "source": [
    "def pretend_to_be_executing(s, delay=2000):\n",
    "    import time\n",
    "    \n",
    "    # convert to milliseconds for time.sleep()\n",
    "    delay=delay/10000\n",
    "    for line in s.split('\\n'):\n",
    "        time.sleep(delay)\n",
    "        print(line)"
   ]
  },
  {
   "cell_type": "markdown",
   "metadata": {},
   "source": [
    "<br><br><br><br><br><br><br><br><br><br><br><br><br><br><br><br><br><br><br><br><br><br><br><br><br><br><br><br>\n",
    "# Load some data in"
   ]
  },
  {
   "cell_type": "code",
   "execution_count": null,
   "metadata": {},
   "outputs": [],
   "source": [
    "# Load some data in, format for indices is [start, end, step]\n",
    "indices = [0, 1570, 100]\n",
    "\n",
    "# use the package directly in a script/ipython/notebook\n",
    "images = isis_imaging.io.loader.load(CHADWICK_SAMPLE_PATH, indices=indices)\n",
    "show(images)"
   ]
  },
  {
   "cell_type": "markdown",
   "metadata": {},
   "source": [
    "<br><br><br><br><br><br><br><br><br><br><br><br><br><br><br><br><br><br><br><br><br><br><br><br><br><br><br><br>\n",
    "# Finding the COR"
   ]
  },
  {
   "cell_type": "code",
   "execution_count": null,
   "metadata": {},
   "outputs": [],
   "source": [
    "# only run on 2 images\n",
    "import subprocess\n",
    "\n",
    "# Another interface to the package: the CLI, used on SCARF\n",
    "# does a command line call, exactly as if I typed it in the terminal. \n",
    "\n",
    "# This is the interface that will be used in the Reconstruction part\n",
    "result = subprocess.run(['isis_imaging', '-i', CHADWICK_SAMPLE_PATH, \\\n",
    "                         '--indices', '340', '1570', '1500', \\\n",
    "                         '--imopr', 'cor'], stdout=subprocess.PIPE)\n",
    "print(result.stdout.decode())"
   ]
  },
  {
   "cell_type": "code",
   "execution_count": null,
   "metadata": {},
   "outputs": [],
   "source": [
    "pretend_to_be_executing(FINDING_COR_ON_RADIOGRAMS_OUTPUT)"
   ]
  },
  {
   "cell_type": "markdown",
   "metadata": {},
   "source": [
    "<br><br><br><br><br><br><br><br><br><br><br><br><br><br><br><br><br><br><br><br><br><br><br><br><br><br><br><br>\n",
    "\n",
    "# Converting to Sinograms\n",
    "\n",
    "<br>\n",
    "## Sinogram - a row from each image, shows the movement of the row throughout the images\n",
    "<br>\n",
    "\n",
    "### This means that for sinograms you need _ALL_ of the information along the Z axis"
   ]
  },
  {
   "cell_type": "markdown",
   "metadata": {},
   "source": [
    "<br><br><br><br><br><br><br><br><br><br><br><br><br><br><br><br><br><br><br><br><br><br><br><br><br><br><br><br>\n",
    "# How do sinograms look"
   ]
  },
  {
   "cell_type": "code",
   "execution_count": null,
   "metadata": {},
   "outputs": [],
   "source": [
    "sinogram_indices = [0, 1960, 100]\n",
    "sinograms = isis_imaging.io.loader.load(SINOGRAMS_PATH, indices=sinogram_indices)\n",
    "show(images)\n",
    "show(images, 9)\n",
    "show(sinograms, 3) # this is the 200th row of EVERY projection from the stack"
   ]
  },
  {
   "cell_type": "markdown",
   "metadata": {
    "collapsed": true
   },
   "source": [
    "```python\n",
    "# It would take too long to actually run in the presentation\n",
    "import subprocess\n",
    "result = subprocess.run(['isis_imaging', '-i', CHADWICK_SAMPLE_PATH, \\\n",
    "                        '-o', SINOGRAMS_PATH, '--convert', '--swap-axes'], stdout=subprocess.PIPE)\n",
    "print(result.stdout.decode())\n",
    "```"
   ]
  },
  {
   "cell_type": "code",
   "execution_count": null,
   "metadata": {},
   "outputs": [],
   "source": [
    "pretend_to_be_executing(CONVERT_TO_SINOGRAMS_OUTPUT, 3000)"
   ]
  },
  {
   "cell_type": "markdown",
   "metadata": {},
   "source": [
    "<br><br><br><br><br><br><br><br><br><br><br><br><br><br><br><br><br><br><br><br><br><br><br><br><br><br><br><br>\n",
    "# Why do we work with Sinograms and not the original slices?\n",
    "Tomopy will implicitly convert the data to sinograms, if we send projections. This doubles the memory usage (and loses time converting the data). If we pass sinograms, we don't have surprise memory doubling.\n",
    "\n",
    "It is specified through a `sinogram_order=True` flag in the actual Tomopy call:\n",
    "```python\n",
    "    recon = self._tomopy.recon(\n",
    "        tomo=sample,\n",
    "        theta=proj_angles,\n",
    "        center=cors,\n",
    "        ncore=cores,\n",
    "        algorithm=alg,\n",
    "        sinogram_order=True,\n",
    "        **kwargs)\n",
    "```\n",
    "\n",
    "\n",
    "<br><br><br><br><br><br><br><br><br><br><br><br><br><br><br><br><br><br><br><br><br><br><br><br><br><br><br><br>\n",
    "## Is that always the case with each tool?"
   ]
  },
  {
   "cell_type": "markdown",
   "metadata": {},
   "source": [
    "<br><br><br><br><br><br><br><br><br><br><br><br><br><br><br><br><br><br><br><br><br><br><br><br><br><br><br><br>\n",
    "# How to use automatic approximation of COR"
   ]
  },
  {
   "cell_type": "code",
   "execution_count": null,
   "metadata": {},
   "outputs": [],
   "source": [
    "import subprocess\n",
    "result = subprocess.run(['isis_imaging', '-i', SINOGRAMS_PATH, \\\n",
    "                         '--indices', '550', '600', '500', \\\n",
    "                         '--imopr', 'cor'], stdout=subprocess.PIPE)\n",
    "print(result.stdout.decode())"
   ]
  },
  {
   "cell_type": "markdown",
   "metadata": {},
   "source": [
    "<br><br><br><br><br><br><br><br><br><br><br><br><br><br><br><br><br><br><br><br><br><br><br><br><br><br><br><br>\n",
    "# How to use manual finding of COR"
   ]
  },
  {
   "cell_type": "code",
   "execution_count": null,
   "metadata": {},
   "outputs": [],
   "source": [
    "import subprocess\n",
    "result = subprocess.run(['isis_imaging', '-i', SINOGRAMS_PATH, \\\n",
    "                         '-o', MANUAL_COR_OUTPUT_PATH, \\\n",
    "                         '--indices', '550', '600', '50', \\\n",
    "                         '--imopr', '500', '600', '5', 'corwrite'], stdout=subprocess.PIPE)\n",
    "print(result.stdout.decode())"
   ]
  },
  {
   "cell_type": "code",
   "execution_count": null,
   "metadata": {
    "scrolled": false
   },
   "outputs": [],
   "source": [
    "recon_slices = isis_imaging.io.loader.load(os.path.join(MANUAL_COR_OUTPUT_PATH, '550'), in_format='tiff')\n",
    "show(recon_slices, 0) # too low COR\n",
    "show(recon_slices, 19) # too high COR\n",
    "show(recon_slices, 6) # Closer to the correct COR\n",
    "show(recon_slices, 8) # just right"
   ]
  },
  {
   "cell_type": "markdown",
   "metadata": {},
   "source": [
    "<br><br><br><br><br><br><br><br><br><br><br><br><br><br><br><br><br><br><br><br><br><br><br><br><br><br><br><br>\n",
    "# Running a reconstruction\n",
    "## Setting up the reconstruction parameters"
   ]
  },
  {
   "cell_type": "code",
   "execution_count": null,
   "metadata": {
    "scrolled": true
   },
   "outputs": [],
   "source": [
    "# Correct Reconstruction COR parameters\n",
    "SLICE_CORS = [\n",
    "  # Slice ID, Center of Rotation\n",
    "    ('422',       '542'), \n",
    "    ('822',       '540'), \n",
    "    ('1222',      '540'), \n",
    "    ('1622',      '537'), \n",
    "    ('1822',      '536')\n",
    "]\n",
    "\n",
    "# Python 3 needs the list(...) as a gentle nudge, because zip is a generator\n",
    "SLICE_IDS, CORS = list(zip(*SLICE_CORS))\n",
    "print(\"Slices\", SLICE_IDS)\n",
    "print(\"Centers of Rotation\", CORS)"
   ]
  },
  {
   "cell_type": "markdown",
   "metadata": {},
   "source": [
    "## Trying to run a reconstruction"
   ]
  },
  {
   "cell_type": "code",
   "execution_count": null,
   "metadata": {},
   "outputs": [],
   "source": [
    "# Keep the same Centers of Rotation\n",
    "# But add one more to the slice indices\n",
    "# Now we have a slice that doesn't have a COR associated with it\n",
    "WRONG_SLICE_IDS = (*SLICE_IDS, '1922',)\n",
    "print(WRONG_SLICE_IDS)\n",
    "\n",
    "\n",
    "# This will crash because we have not provided the same amount of CORs and slice IDs\n",
    "\n",
    "import subprocess\n",
    "result = subprocess.run(['isis_imaging', '-i', SINOGRAMS_PATH, \\\n",
    "                         '-o', RECONSTRUCTION_OUTPUT_PATH, \\\n",
    "                         '--reconstruction', \\\n",
    "                         '--cors', *CORS, \\\n",
    "                         '--cor-slices', *WRONG_SLICE_IDS, \\\n",
    "                         '-t', 'tomopy', \\\n",
    "                         '-a', 'gridrec'], stdout=subprocess.PIPE, stderr=subprocess.PIPE)\n",
    "print(result.stderr.decode())"
   ]
  },
  {
   "cell_type": "markdown",
   "metadata": {},
   "source": [
    "<br><br><br><br><br><br><br><br><br><br><br><br><br><br><br><br><br><br><br><br><br><br><br><br><br><br><br><br>\n",
    "## Actually running the reconstruction\n",
    "## Note: For visual comparison this data DOES NOT have Minus Log applied to it!"
   ]
  },
  {
   "cell_type": "markdown",
   "metadata": {
    "collapsed": true
   },
   "source": [
    "#### If we run this it would take 10 minutes!\n",
    "\n",
    "```python\n",
    "import subprocess\n",
    "result = subprocess.run(['isis_imaging', '-i', SINOGRAMS_PATH, \\\n",
    "                         '-o', RECONSTRUCTION_OUTPUT_PATH, \\\n",
    "                         '--reconstruction', \\\n",
    "                         '--cors', *CORS, \\\n",
    "                         '--cor-slices', *SLICE_IDS, '-w'], stdout=subprocess.PIPE)\n",
    "print(result.stdout.decode())\n",
    "print(result.stderr.decode())\n",
    "```"
   ]
  },
  {
   "cell_type": "code",
   "execution_count": null,
   "metadata": {},
   "outputs": [],
   "source": [
    "pretend_to_be_executing(RECONSTRUCTION_RUN_OUTPUT)"
   ]
  },
  {
   "cell_type": "code",
   "execution_count": null,
   "metadata": {},
   "outputs": [],
   "source": [
    "path = os.path.join(RECONSTRUCTION_OUTPUT_PATH, 'reconstructed')\n",
    "\n",
    "root, dirs, files = next(os.walk(path))\n",
    "print(\"\\n\".join(sorted(files)))"
   ]
  },
  {
   "cell_type": "code",
   "execution_count": null,
   "metadata": {},
   "outputs": [],
   "source": [
    "recon = isis_imaging.io.loader.load(path, indices=[300, 1900, 400])\n",
    "\n",
    "show(recon)\n",
    "show(recon, 1)"
   ]
  },
  {
   "cell_type": "code",
   "execution_count": null,
   "metadata": {},
   "outputs": [],
   "source": [
    "show(recon, 2)\n",
    "show(recon, 3)"
   ]
  },
  {
   "cell_type": "code",
   "execution_count": null,
   "metadata": {},
   "outputs": [],
   "source": [
    "plot_histograms_magically(recon, 1)"
   ]
  },
  {
   "cell_type": "markdown",
   "metadata": {},
   "source": [
    "# Visualising the Minus Log reconstruction"
   ]
  },
  {
   "cell_type": "code",
   "execution_count": null,
   "metadata": {
    "scrolled": false
   },
   "outputs": [],
   "source": [
    "minus_log_recon = isis_imaging.io.loader.load(RECONSTRUCTION_READY_PATH, indices=[300, 1900, 400], in_format='tiff')\n",
    "\n",
    "show(minus_log_recon)\n",
    "show(minus_log_recon, 1)"
   ]
  },
  {
   "cell_type": "code",
   "execution_count": null,
   "metadata": {},
   "outputs": [],
   "source": [
    "show(minus_log_recon, 2)\n",
    "show(minus_log_recon, 3)"
   ]
  },
  {
   "cell_type": "code",
   "execution_count": null,
   "metadata": {},
   "outputs": [],
   "source": [
    "plot_histograms_magically(minus_log_recon, 1)"
   ]
  },
  {
   "cell_type": "markdown",
   "metadata": {},
   "source": [
    "<br><br><br><br><br><br><br><br><br><br><br><br><br><br><br><br><br><br><br><br><br><br><br><br><br><br><br><br>\n",
    "# Post-processing"
   ]
  },
  {
   "cell_type": "code",
   "execution_count": null,
   "metadata": {},
   "outputs": [],
   "source": [
    "minus_log_recon = isis_imaging.io.loader.load(RECONSTRUCTION_READY_PATH, indices=[300, 1900, 400], in_format='tiff')\n",
    "\n",
    "show(minus_log_recon)\n",
    "show(minus_log_recon, 3)"
   ]
  }
 ],
 "metadata": {
  "kernelspec": {
   "display_name": "Python [default]",
   "language": "python",
   "name": "python3"
  },
  "language_info": {
   "codemirror_mode": {
    "name": "ipython",
    "version": 3
   },
   "file_extension": ".py",
   "mimetype": "text/x-python",
   "name": "python",
   "nbconvert_exporter": "python",
   "pygments_lexer": "ipython3",
   "version": "3.5.3"
  }
 },
 "nbformat": 4,
 "nbformat_minor": 2
}
