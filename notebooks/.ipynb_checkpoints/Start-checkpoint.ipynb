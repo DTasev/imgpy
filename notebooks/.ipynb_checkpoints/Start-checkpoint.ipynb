{
 "cells": [
  {
   "cell_type": "code",
   "execution_count": 13,
   "metadata": {},
   "outputs": [
    {
     "name": "stderr",
     "output_type": "stream",
     "text": [
      "/home/dtasev/anaconda3/lib/python3.6/site-packages/matplotlib/__init__.py:1405: UserWarning: \n",
      "This call to matplotlib.use() has no effect because the backend has already\n",
      "been chosen; matplotlib.use() must be called *before* pylab, matplotlib.pyplot,\n",
      "or matplotlib.backends is imported for the first time.\n",
      "\n",
      "  warnings.warn(_use_error_msg)\n",
      "/home/dtasev/anaconda3/lib/python3.6/site-packages/matplotlib/figure.py:403: UserWarning: matplotlib is currently using a non-GUI backend, so cannot show the figure\n",
      "  \"matplotlib is currently using a non-GUI backend, \"\n"
     ]
    }
   ],
   "source": [
    "import matplotlib\n",
    "matplotlib.use('nbagg')\n",
    "\n",
    "from matplotlib import pyplot as plt\n",
    "from matplotlib.widgets import RectangleSelector, Slider\n",
    "\n",
    "import numpy as np\n",
    "ri = np.random.rand(10,10)\n",
    "\n",
    "fig, ax = plt.subplots()\n",
    "ax.imshow(ri)\n",
    "rectangle = RectangleSelector(\n",
    "            ax,\n",
    "            region_select_callback,\n",
    "            drawtype='box',\n",
    "            useblit=True,\n",
    "            button=[1, 3],  # don't use middle button\n",
    "            spancoords='pixels',\n",
    "            minspanx=3,\n",
    "            minspany=3,\n",
    "            interactive=True)\n",
    "fig.show()"
   ]
  },
  {
   "cell_type": "code",
   "execution_count": 8,
   "metadata": {
    "collapsed": true
   },
   "outputs": [],
   "source": [
    "def region_select_callback(eclick, erelease):\n",
    "    print(eclick)\n",
    "    print(erelease)\n",
    "    'eclick and erelease are the press and release events'\n",
    "    x0, y0 = eclick.xdata, eclick.ydata\n",
    "    x1, y1 = erelease.xdata, erelease.ydata\n",
    "    # different order here, than in how we handle it\n",
    "    # this is because the unpacking for draw_rect is different\n",
    "    # this is because the unpacking for draw_rect is different\n",
    "    previous_region = (x0, x1, y0, y1)\n",
    "    region = \"%i %i %i %i\" % (x0, y0, x1, y1)\n",
    "    print(region)"
   ]
  }
 ],
 "metadata": {
  "kernelspec": {
   "display_name": "Python 3",
   "language": "python",
   "name": "python3"
  },
  "language_info": {
   "codemirror_mode": {
    "name": "ipython",
    "version": 3
   },
   "file_extension": ".py",
   "mimetype": "text/x-python",
   "name": "python",
   "nbconvert_exporter": "python",
   "pygments_lexer": "ipython3",
   "version": "3.6.1"
  }
 },
 "nbformat": 4,
 "nbformat_minor": 2
}
