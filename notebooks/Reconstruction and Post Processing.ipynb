{
 "cells": [
  {
   "cell_type": "markdown",
   "metadata": {},
   "source": [
    "Note: This assumes that the `mantidimaging` is available on the PATH, otherwise the subprocess commands will not be able to execute the package successfully. On how to do that please set up global access to the package https://mantidproject.github.io/mantidimaging/user_guide/setting_up.html"
   ]
  },
  {
   "cell_type": "code",
   "execution_count": null,
   "metadata": {},
   "outputs": [],
   "source": [
    "# Setup the package, this is done automatically with the startup scripts\n",
    "import os\n",
    "import sys\n",
    "\n",
    "# Setup some constants\n",
    "HOME = os.path.expanduser('~')\n",
    "CHADWICK_PATH = os.path.join(HOME, 'mantidimaging', 'notebooks', 'demoimages')\n",
    "CHADWICK_SAMPLE_PATH = os.path.join(CHADWICK_PATH, 'sample')\n",
    "SINOGRAMS_PATH = os.path.join(CHADWICK_PATH, 'sinograms')\n",
    "SINOGRAMS_MLOG_PATH = os.path.join(CHADWICK_PATH, 'sinograms_mlog')\n",
    "\n",
    "CHADWICK_PREPROC_PATH = os.path.join(CHADWICK_PATH, 'preproc')\n",
    "CHADWICK_PREPROC_MLOG_PATH = os.path.join(CHADWICK_PATH, 'preproc-mlog')\n",
    "\n",
    "MANUAL_COR_OUTPUT_PATH = os.path.join(CHADWICK_PATH, 'cors')\n",
    "\n",
    "RECONSTRUCTION_OUTPUT_PATH = os.path.join(CHADWICK_PATH, 'reconstructed')\n",
    "RECONSTRUCTION_MLOG_OUTPUT_PATH = os.path.join(CHADWICK_PATH, 'reconstructed_mlog')\n",
    "\n",
    "MANTIDIMAGING_PATH = os.path.join(HOME, 'mantidimaging')\n",
    "print(HOME, CHADWICK_PATH, MANTIDIMAGING_PATH)\n",
    "sys.path[0]=MANTIDIMAGING_PATH\n",
    "\n",
    "import mantidimaging\n",
    "print(mantidimaging.__package__)\n",
    "\n",
    "# Setup matplotlib to use the notebook backend\n",
    "import matplotlib\n",
    "matplotlib.use('nbagg')\n",
    "from matplotlib import pyplot\n",
    "\n",
    "# Create matplotlib objects\n",
    "def show(image, idx=0):\n",
    "    fig, img_axes = pyplot.subplots(nrows=1,ncols=1)\n",
    "    \n",
    "    image_obj = img_axes.imshow(image.get_sample()[idx], cmap='Greys_r')\n",
    "\n",
    "    pyplot.show()\n",
    "\n",
    "# import package from isis_imaging's GUI part\n",
    "from mantidimaging.gui.stack_visualiser import sv_histogram\n",
    "\n",
    "# python abuse to plot the histograms on the same plot, it works by default in the package\n",
    "\n",
    "def plot_histograms_magically(data, idx1=0, idx2=None):\n",
    "    # save the original function reference\n",
    "    if idx2:\n",
    "        temp_func_storage = sv_histogram._show\n",
    "        def _temporary_empty_function(): pass\n",
    "        # set to a function that does nothing\n",
    "        sv_histogram.show_transparent(data.get_sample()[idx2].flatten(), \"Normal Contrast\", \"\")\n",
    "\n",
    "        # restore so that the plot is shown next time\n",
    "        sv_histogram._show = temp_func_storage\n",
    "\n",
    "    sv_histogram.show_transparent(data.get_sample()[idx1].flatten(), \"Low Contrast\", \"Magic\")    "
   ]
  },
  {
   "cell_type": "markdown",
   "metadata": {},
   "source": [
    "<br><br><br><br><br><br><br><br><br><br><br><br><br><br><br><br><br><br><br><br><br><br><br><br><br><br><br><br>\n",
    "# Load some data in"
   ]
  },
  {
   "cell_type": "code",
   "execution_count": null,
   "metadata": {},
   "outputs": [],
   "source": [
    "# Load some data in, format for indices is [start, end, step]\n",
    "indices = [0, 2, 1]\n",
    "\n",
    "# use the package directly in a script/ipython/notebook style\n",
    "images = mantidimaging.core.io.loader.load(CHADWICK_PREPROC_PATH, indices=indices)\n",
    "show(images)"
   ]
  },
  {
   "cell_type": "markdown",
   "metadata": {},
   "source": [
    "<br><br><br><br><br><br><br><br><br><br><br><br><br><br><br><br><br><br><br><br><br><br><br><br><br><br><br><br>\n",
    "# Finding the COR"
   ]
  },
  {
   "cell_type": "code",
   "execution_count": null,
   "metadata": {
    "scrolled": false
   },
   "outputs": [],
   "source": [
    "# only run on 2 images\n",
    "import subprocess\n",
    "\n",
    "# Another interface to the package: the CLI, used on SCARF\n",
    "# does a command line call, exactly as if I typed it in the terminal. \n",
    "\n",
    "print(\"Command line executed:\\n\", \n",
    "      \" \".join(['mantidimaging', '-i', CHADWICK_PREPROC_PATH, '--indices', '0', '2', '1', '--imopr', 'cor']),\n",
    "     \"\\n\")\n",
    "\n",
    "# This is the interface that will be used in the Reconstruction part\n",
    "result = subprocess.run(['mantidimaging', '-i', CHADWICK_PREPROC_PATH, \\\n",
    "                         '--indices', '0', '2', '1', \\\n",
    "                         '--imopr', 'cor'], stdout=subprocess.PIPE)\n",
    "\n",
    "if result.stdout:\n",
    "    print(result.stdout.decode())\n",
    "if result.stderr:\n",
    "    print(result.stderr.decode())"
   ]
  },
  {
   "cell_type": "markdown",
   "metadata": {},
   "source": [
    "The calculated center of rotation can be found with the prefix \n",
    "\n",
    "```\n",
    "Running COR for index * [ ...]`\n",
    "```\n",
    "\n",
    "A thing to note here is the message \n",
    "\n",
    "```text\n",
    "This works ONLY with sinograms\n",
    "```\n",
    "\n",
    "because what we're running the algorithm with is the _projections_. There is no way to automatically determine if we have a projection or a sinogram, as the dimensons vary depending on crop."
   ]
  },
  {
   "cell_type": "markdown",
   "metadata": {},
   "source": [
    "<br><br><br><br><br><br><br><br><br><br><br><br><br><br><br><br><br><br><br><br><br><br><br><br><br><br><br><br>\n",
    "\n",
    "# Converting to Sinograms\n",
    "\n",
    "<br>\n",
    "## Sinogram - a row from each image, shows the movement of the row throughout the images\n",
    "<br>\n",
    "\n",
    "### This means that for sinograms you need _ALL_ of the information along the Z axis"
   ]
  },
  {
   "cell_type": "markdown",
   "metadata": {},
   "source": [
    "<br><br><br><br><br><br><br><br><br><br><br><br><br><br><br><br><br><br><br><br><br><br><br><br><br><br><br><br>\n",
    "# Visualise a projection"
   ]
  },
  {
   "cell_type": "code",
   "execution_count": null,
   "metadata": {},
   "outputs": [],
   "source": [
    "# show one of the first projections\n",
    "show(images) "
   ]
  },
  {
   "cell_type": "markdown",
   "metadata": {},
   "source": [
    "# How does a sinogram look?"
   ]
  },
  {
   "cell_type": "code",
   "execution_count": null,
   "metadata": {
    "scrolled": false
   },
   "outputs": [],
   "source": [
    "sinogram_indices = [0, 2, 1]\n",
    "sinograms = mantidimaging.core.io.loader.load(SINOGRAMS_PATH, indices=sinogram_indices)\n",
    "\n",
    "# shows the 600th sinogram. This is the 600th row of EVERY projection \n",
    "# from the image volume and shows the movement of the object through the volume\n",
    "show(sinograms) "
   ]
  },
  {
   "cell_type": "markdown",
   "metadata": {
    "collapsed": true
   },
   "source": [
    "The following would be the code to convert the projections to sinograms, however that requires loading the whole dataset, but not all images are provided for the demo.\n",
    "\n",
    "```python\n",
    "\n",
    "import subprocess\n",
    "result = subprocess.run(['mantidimaging', '-i', CHADWICK_SAMPLE_PATH, \\\n",
    "                        '-o', SINOGRAMS_PATH, '--convert', '--swap-axes'], stdout=subprocess.PIPE)\n",
    "print(result.stdout.decode())\n",
    "```"
   ]
  },
  {
   "cell_type": "code",
   "execution_count": null,
   "metadata": {},
   "outputs": [],
   "source": [
    "print(\"The command line to convert the projections to sinograms is:\\n\", \" \".join(['mantidimaging', '-i', CHADWICK_SAMPLE_PATH, '-o', SINOGRAMS_PATH, '--convert', '--swap-axes']))"
   ]
  },
  {
   "cell_type": "markdown",
   "metadata": {},
   "source": [
    "<br><br><br><br><br><br><br><br><br><br><br><br><br><br><br><br><br><br><br><br><br><br><br><br><br><br><br><br>\n",
    "# Why do we work with Sinograms and not the original slices?\n",
    "Tomopy will implicitly convert the data to sinograms, if we send projections. This doubles the memory usage (and loses time converting the data). If we pass sinograms, we don't have surprise memory doubling.\n",
    "\n",
    "It is specified through a `sinogram_order=True` flag in the actual Tomopy call:\n",
    "```python\n",
    "    recon = self._tomopy.recon(\n",
    "        tomo=sample,\n",
    "        theta=proj_angles,\n",
    "        center=cors,\n",
    "        ncore=cores,\n",
    "        algorithm=alg,\n",
    "        sinogram_order=True,\n",
    "        **kwargs)\n",
    "```"
   ]
  },
  {
   "cell_type": "markdown",
   "metadata": {},
   "source": [
    "<br><br><br><br><br><br><br><br><br><br><br><br><br><br><br><br><br><br><br><br><br><br><br><br><br><br><br><br>\n",
    "# How to use automatic approximation of COR"
   ]
  },
  {
   "cell_type": "code",
   "execution_count": null,
   "metadata": {},
   "outputs": [],
   "source": [
    "print(\"Command line:\\n\", \" \".join(['mantidimaging', '-i', SINOGRAMS_PATH, \\\n",
    "                         '--indices', '550', '600', '500', \\\n",
    "                         '--imopr', 'cor']))\n",
    "\n",
    "import subprocess\n",
    "result = subprocess.run(['mantidimaging', '-i', SINOGRAMS_PATH, \\\n",
    "                         '--indices', '0', '2', '1', \\\n",
    "                         '--imopr', 'cor'], stdout=subprocess.PIPE)\n",
    "if result.stdout:\n",
    "    print(result.stdout.decode())\n",
    "if result.stderr:\n",
    "    print(result.stderr.decode())"
   ]
  },
  {
   "cell_type": "markdown",
   "metadata": {},
   "source": [
    "The center of rotation is a lot closer to the actual one when run on the sinogram (the one I found and which we will use below is 134).\n",
    "\n",
    "The algorithm is generally fairly innacurate for the high noise datasets from neutron tomography."
   ]
  },
  {
   "cell_type": "markdown",
   "metadata": {},
   "source": [
    "<br><br><br><br><br><br><br><br><br><br><br><br><br><br><br><br><br><br><br><br><br><br><br><br><br><br><br><br>\n",
    "# How to use manual finding of COR"
   ]
  },
  {
   "cell_type": "markdown",
   "metadata": {},
   "source": [
    "The centers of rotations we are reconstructing are specified after the `--imopr` flag.\n",
    "\n",
    "We will reconstruct the CORs starting 130 to 140, with a step of 1. The output will be saved out in the specified directory with `-o`."
   ]
  },
  {
   "cell_type": "code",
   "execution_count": null,
   "metadata": {},
   "outputs": [],
   "source": [
    "import subprocess\n",
    "result = subprocess.run(['mantidimaging', '-i', SINOGRAMS_PATH, \\\n",
    "                         '-o', MANUAL_COR_OUTPUT_PATH, \\\n",
    "                         '--indices', '0', '2', '1', \\\n",
    "                         '--imopr', '130', '140', '1', 'corwrite'], stdout=subprocess.PIPE)\n",
    "\n",
    "if result.stdout:\n",
    "    print(result.stdout.decode())\n",
    "if result.stderr:\n",
    "    print(result.stderr.decode())"
   ]
  },
  {
   "cell_type": "code",
   "execution_count": null,
   "metadata": {},
   "outputs": [],
   "source": [
    "recon_slices = mantidimaging.core.io.loader.load(os.path.join(MANUAL_COR_OUTPUT_PATH, '0'), in_format='tiff')\n",
    "\n",
    "# There is not much difference between going below or over the COR\n",
    "show(recon_slices, 0) # too low COR"
   ]
  },
  {
   "cell_type": "code",
   "execution_count": null,
   "metadata": {},
   "outputs": [],
   "source": [
    "# too high COR\n",
    "show(recon_slices, 9)"
   ]
  },
  {
   "cell_type": "code",
   "execution_count": null,
   "metadata": {},
   "outputs": [],
   "source": [
    "# Closer to the correct COR, but still a little bit of shadow left\n",
    "show(recon_slices, 6)"
   ]
  },
  {
   "cell_type": "code",
   "execution_count": null,
   "metadata": {},
   "outputs": [],
   "source": [
    "# just right\n",
    "show(recon_slices, 4)"
   ]
  },
  {
   "cell_type": "markdown",
   "metadata": {},
   "source": [
    "<br><br><br><br><br><br><br><br><br><br><br><br><br><br><br><br><br><br><br><br><br><br><br><br><br><br><br><br>\n",
    "# Running a reconstruction\n",
    "## Setting up the reconstruction parameters"
   ]
  },
  {
   "cell_type": "code",
   "execution_count": null,
   "metadata": {
    "scrolled": true
   },
   "outputs": [],
   "source": [
    "# Correct Reconstruction COR parameters\n",
    "SLICE_CORS = [\n",
    "  # Slice ID, Center of Rotation\n",
    "    ('422',       '542'), \n",
    "    ('822',       '540'), \n",
    "    ('1222',      '540'), \n",
    "    ('1622',      '537'), \n",
    "    ('1822',      '536')\n",
    "]\n",
    "\n",
    "# Python 3 needs the list(...) as a gentle nudge, because zip is a generator\n",
    "SLICE_IDS, CORS = list(zip(*SLICE_CORS))\n",
    "print(\"Slices\", SLICE_IDS)\n",
    "print(\"Centers of Rotation\", CORS)"
   ]
  },
  {
   "cell_type": "markdown",
   "metadata": {},
   "source": [
    "## Trying to run a reconstruction"
   ]
  },
  {
   "cell_type": "code",
   "execution_count": null,
   "metadata": {},
   "outputs": [],
   "source": [
    "# Keep the same Centers of Rotation\n",
    "# But add one more to the slice indices\n",
    "# Now we have a slice that doesn't have a COR associated with it\n",
    "WRONG_SLICE_IDS = (*SLICE_IDS, '1922',)\n",
    "print(WRONG_SLICE_IDS)\n",
    "\n",
    "\n",
    "# This will crash because we have not provided the same amount of CORs and slice IDs\n",
    "\n",
    "import subprocess\n",
    "result = subprocess.run(['mantidimaging', '-i', SINOGRAMS_PATH, \\\n",
    "                         '-o', RECONSTRUCTION_OUTPUT_PATH, \\\n",
    "                         '--reconstruction', \\\n",
    "                         '--cors', *CORS, \\\n",
    "                         '--cor-slices', *WRONG_SLICE_IDS, \\\n",
    "                         '-t', 'tomopy', \\\n",
    "                         '-a', 'gridrec'], stdout=subprocess.PIPE, stderr=subprocess.PIPE)\n",
    "print(result.stderr.decode())"
   ]
  },
  {
   "cell_type": "markdown",
   "metadata": {},
   "source": [
    "<br><br><br><br><br><br><br><br><br><br><br><br><br><br><br><br><br><br><br><br><br><br><br><br><br><br><br><br>\n",
    "## Actually running the reconstruction\n",
    "## Note: For visual comparison this data DOES NOT have Minus Log applied to it!"
   ]
  },
  {
   "cell_type": "code",
   "execution_count": null,
   "metadata": {},
   "outputs": [],
   "source": [
    "SLICE_CORS = [\n",
    "  # Slice ID, Center of Rotation\n",
    "    ('0',       '134'), \n",
    "    ('1',       '134')\n",
    "]\n",
    "\n",
    "SLICE_IDS, CORS = list(zip(*SLICE_CORS))\n",
    "import subprocess\n",
    "result = subprocess.run(['mantidimaging', '-i', SINOGRAMS_PATH, \\\n",
    "                         '-o', RECONSTRUCTION_OUTPUT_PATH, \\\n",
    "                         '--reconstruction', \\\n",
    "                         '--cors', *CORS, \\\n",
    "                         '--cor-slices', *SLICE_IDS, '-w'], stdout=subprocess.PIPE)\n",
    "if result.stdout:\n",
    "    print(result.stdout.decode())\n",
    "if result.stderr:\n",
    "    print(result.stderr.decode())"
   ]
  },
  {
   "cell_type": "code",
   "execution_count": null,
   "metadata": {},
   "outputs": [],
   "source": [
    "path = os.path.join(RECONSTRUCTION_OUTPUT_PATH, 'reconstructed')\n",
    "\n",
    "root, dirs, files = next(os.walk(path))\n",
    "print(\"\\n\".join(sorted(files)))"
   ]
  },
  {
   "cell_type": "code",
   "execution_count": null,
   "metadata": {},
   "outputs": [],
   "source": [
    "recon = mantidimaging.core.io.loader.load(path, indices=[0, 2, 1])\n",
    "\n",
    "show(recon)"
   ]
  },
  {
   "cell_type": "markdown",
   "metadata": {},
   "source": [
    "# Minus Log reconstruction"
   ]
  },
  {
   "cell_type": "code",
   "execution_count": null,
   "metadata": {},
   "outputs": [],
   "source": [
    "SLICE_CORS = [\n",
    "  # Slice ID, Center of Rotation\n",
    "    ('0',       '134'), \n",
    "    ('1',       '134')\n",
    "]\n",
    "\n",
    "SLICE_IDS, CORS = list(zip(*SLICE_CORS))\n",
    "import subprocess\n",
    "result = subprocess.run(['mantidimaging', '-i', SINOGRAMS_MLOG_PATH, \\\n",
    "                         '-o', RECONSTRUCTION_MLOG_OUTPUT_PATH, \\\n",
    "                         '--reconstruction', \\\n",
    "                         '--cors', *CORS, \\\n",
    "                         '--cor-slices', *SLICE_IDS, '-w'], stdout=subprocess.PIPE)\n",
    "if result.stdout:\n",
    "    print(result.stdout.decode())\n",
    "if result.stderr:\n",
    "    print(result.stderr.decode())"
   ]
  },
  {
   "cell_type": "code",
   "execution_count": null,
   "metadata": {
    "scrolled": true
   },
   "outputs": [],
   "source": [
    "mlog_path = os.path.join(RECONSTRUCTION_MLOG_OUTPUT_PATH, 'reconstructed')\n",
    "recon = mantidimaging.core.io.loader.load(mlog_path, indices=[0, 2, 1])\n",
    "\n",
    "show(recon)"
   ]
  }
 ],
 "metadata": {
  "kernelspec": {
   "display_name": "Python [conda env:py35]",
   "language": "python",
   "name": "conda-env-py35-py"
  },
  "language_info": {
   "codemirror_mode": {
    "name": "ipython",
    "version": 3
   },
   "file_extension": ".py",
   "mimetype": "text/x-python",
   "name": "python",
   "nbconvert_exporter": "python",
   "pygments_lexer": "ipython3",
   "version": "3.5.3"
  }
 },
 "nbformat": 4,
 "nbformat_minor": 2
}
