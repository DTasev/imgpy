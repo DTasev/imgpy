{
 "cells": [
  {
   "cell_type": "markdown",
   "metadata": {},
   "source": [
    "# Why do we do pre-processing?"
   ]
  },
  {
   "cell_type": "markdown",
   "metadata": {},
   "source": [
    "# Example dataset -> Chadwick"
   ]
  },
  {
   "cell_type": "code",
   "execution_count": null,
   "metadata": {
    "collapsed": true
   },
   "outputs": [],
   "source": [
    "# Setup the package, this is done automatically with the startup scripts\n",
    "import os\n",
    "import sys\n",
    "\n",
    "# Setup some constants\n",
    "HOME = os.path.expanduser('~')\n",
    "CHADWICK_PATH = os.path.join(HOME, 'win_img', 'chadwick_insert')\n",
    "CHADWICK_SAMPLE_PATH = os.path.join(CHADWICK_PATH, 'Data')\n",
    "CHADWICK_DARK_PATH = os.path.join(CHADWICK_PATH, 'Dark_Tomo')\n",
    "CHADWICK_FLAT_PATH = os.path.join(CHADWICK_PATH, 'Open_Tomo_BeforeInsert')\n",
    "\n",
    "ISIS_IMAGING_PATH = os.path.join(HOME, 'isis_imaging')\n",
    "print(HOME, CHADWICK_PATH, ISIS_IMAGING_PATH)\n",
    "sys.path[0]=ISIS_IMAGING_PATH\n",
    "\n",
    "import isis_imaging\n",
    "print(isis_imaging.__package__)"
   ]
  },
  {
   "cell_type": "code",
   "execution_count": null,
   "metadata": {
    "collapsed": true
   },
   "outputs": [],
   "source": [
    "# Setup matplotlib to use the notebook backend\n",
    "import matplotlib\n",
    "matplotlib.use('nbagg')\n",
    "from matplotlib import pyplot"
   ]
  },
  {
   "cell_type": "code",
   "execution_count": null,
   "metadata": {
    "collapsed": true
   },
   "outputs": [],
   "source": [
    "# Load some data in, format for indices is [start, end, step]\n",
    "indices = [0, 1570, 100]\n",
    "images = isis_imaging.io.loader.load(CHADWICK_SAMPLE_PATH, CHADWICK_FLAT_PATH, CHADWICK_DARK_PATH, indices=indices)"
   ]
  },
  {
   "cell_type": "code",
   "execution_count": null,
   "metadata": {
    "collapsed": true
   },
   "outputs": [],
   "source": [
    "# The file returned is of a type Images\n",
    "assert isinstance(images, isis_imaging.io.loader.Images)\n",
    "\n",
    "# print the public methods\n",
    "list(filter(lambda x: \"__\" not in x, dir(isis_imaging.io.loader.Images)))"
   ]
  },
  {
   "cell_type": "code",
   "execution_count": null,
   "metadata": {
    "collapsed": true
   },
   "outputs": [],
   "source": [
    "# Create matplotlib objects\n",
    "def show(image):\n",
    "    fig, img_axes = pyplot.subplots(nrows=1,ncols=1)\n",
    "    \n",
    "    image_obj = img_axes.imshow(image.get_sample()[0], cmap='Greys_r')\n",
    "    \n",
    "    hist_axes = fig.add_axes([0.25, 0.925, 0.5, 0.08])\n",
    "    hist_axes.hist(image.get_sample().flatten(), bins=2048)\n",
    "\n",
    "    pyplot.show()\n",
    "    \n",
    "show(images)"
   ]
  },
  {
   "cell_type": "code",
   "execution_count": null,
   "metadata": {
    "collapsed": true,
    "scrolled": true
   },
   "outputs": [],
   "source": [
    "# Note for pre-processing parameters\n",
    "ROI = (422, 6, 1492, 1970)\n",
    "print(\"ROI\", *ROI)\n",
    "AIR_REGION = (1348, 732, 1436, 846)\n",
    "print(\"Air Region\", *AIR_REGION)\n",
    "\n",
    "CLIP_MIN = 0.01\n",
    "CLIP_MAX = 6200"
   ]
  },
  {
   "cell_type": "code",
   "execution_count": null,
   "metadata": {
    "collapsed": true
   },
   "outputs": [],
   "source": [
    "from isis_imaging.core.algorithms import value_scaling\n",
    "from isis_imaging.core.filters import background_correction\n",
    "\n",
    "# We need to rescale the pixel values back to int16 range (0, 65535) \n",
    "# after background correction and contrast normalisation\n",
    "scale_factors = value_scaling.create_factors(images.get_sample())\n",
    "\n",
    "# Background Correction\n",
    "# We need sample, flat (open beam) and dark (without an object) images\n",
    "background_correction.execute(images.get_sample(), images.get_flat(), images.get_dark())\n",
    "show(images)"
   ]
  },
  {
   "cell_type": "markdown",
   "metadata": {},
   "source": [
    "# Some images might have a different contrast, and they have lower counts for each pixel"
   ]
  },
  {
   "cell_type": "code",
   "execution_count": null,
   "metadata": {
    "collapsed": true,
    "scrolled": false
   },
   "outputs": [],
   "source": [
    "from isis_imaging.gui.stack_visualiser import sv_histogram\n",
    "\n",
    "# Show difference in histograms, but we don't want to look at two different plots\n",
    "sv_histogram.show_transparent(images.get_sample()[0].flatten(), \"Normal Contrast\", \"\")\n",
    "sv_histogram.show_transparent(images.get_sample()[5].flatten(), \"Low Contrast\", \"\")"
   ]
  },
  {
   "cell_type": "code",
   "execution_count": null,
   "metadata": {
    "collapsed": true,
    "scrolled": true
   },
   "outputs": [],
   "source": [
    "# import package from isis_imaging's GUI part\n",
    "from isis_imaging.gui.stack_visualiser import sv_histogram\n",
    "\n",
    "# python abuse to plot the histograms on the same plot, it works by default in the package\n",
    "\n",
    "def plot_histograms_magically(ylim=None):\n",
    "    # save the original function reference\n",
    "    temp_func_storage = sv_histogram._show\n",
    "    def _temporary_empty_function(): pass\n",
    "    # set to a function that does nothing\n",
    "    sv_histogram._show = _temporary_empty_function\n",
    "\n",
    "    sv_histogram.show_transparent(images.get_sample()[0].flatten(), \"Normal Contrast\", \"\")\n",
    "\n",
    "    # restore so that the plot is shown next time\n",
    "    sv_histogram._show = temp_func_storage\n",
    "\n",
    "    sv_histogram.show_transparent(images.get_sample()[5].flatten(), \"Low Contrast\", \"Magic\")"
   ]
  },
  {
   "cell_type": "code",
   "execution_count": null,
   "metadata": {
    "collapsed": true
   },
   "outputs": [],
   "source": [
    "plot_histograms_magically()"
   ]
  },
  {
   "cell_type": "code",
   "execution_count": null,
   "metadata": {
    "collapsed": true
   },
   "outputs": [],
   "source": [
    "# Normalisation by Air Region (Contrast Normalisation)\n",
    "from isis_imaging.core.filters import roi_normalisation\n",
    "\n",
    "roi_normalisation.execute(images.get_sample(), AIR_REGION)\n",
    "value_scaling.apply_factor(images.get_sample(), scale_factors)\n",
    "show(images)"
   ]
  },
  {
   "cell_type": "code",
   "execution_count": null,
   "metadata": {
    "collapsed": true
   },
   "outputs": [],
   "source": [
    "# Plot results after contrast normalisation\n",
    "plot_histograms_magically()"
   ]
  },
  {
   "cell_type": "code",
   "execution_count": null,
   "metadata": {
    "collapsed": true
   },
   "outputs": [],
   "source": [
    "# Region of Interest crop\n",
    "\n",
    "from isis_imaging.core.filters import crop_coords\n",
    "\n",
    "images.sample, images.flat, images.dark = crop_coords.execute(images.get_sample(), ROI)\n",
    "show(images)"
   ]
  },
  {
   "cell_type": "code",
   "execution_count": null,
   "metadata": {
    "collapsed": true
   },
   "outputs": [],
   "source": [
    "plot_histograms_magically()"
   ]
  },
  {
   "cell_type": "code",
   "execution_count": null,
   "metadata": {
    "collapsed": true
   },
   "outputs": [],
   "source": [
    "from isis_imaging.core.filters import clip_values\n",
    "print(\"Remove minimum values\", CLIP_MIN)\n",
    "print(\"Remove maximum values\", CLIP_MAX)\n",
    "clip_values.execute(images.get_sample(), CLIP_MIN, CLIP_MAX)\n",
    "show(images)"
   ]
  }
 ],
 "metadata": {
  "kernelspec": {
   "display_name": "Python [default]",
   "language": "python",
   "name": "python3"
  },
  "language_info": {
   "codemirror_mode": {
    "name": "ipython",
    "version": 3
   },
   "file_extension": ".py",
   "mimetype": "text/x-python",
   "name": "python",
   "nbconvert_exporter": "python",
   "pygments_lexer": "ipython3",
   "version": "3.5.3"
  }
 },
 "nbformat": 4,
 "nbformat_minor": 2
}
