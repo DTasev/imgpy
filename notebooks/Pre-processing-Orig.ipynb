{
 "cells": [
  {
   "cell_type": "markdown",
   "metadata": {},
   "source": [
    "### The difference between this notebook and `Pre-processing` is that some information is _missing_ here, so I would advise to go in `Pre-processing` instead. Aside from a few comments the code and other contents is the same"
   ]
  },
  {
   "cell_type": "code",
   "execution_count": 5,
   "metadata": {
    "scrolled": false
   },
   "outputs": [
    {
     "name": "stdout",
     "output_type": "stream",
     "text": [
      "Home Dir -> /home/dtasev \n",
      "Dataset Path -> /home/dtasev/win_img/chadwick_insert \n",
      "Package Path -> /home/dtasev/mantidimaging\n",
      "Package name -> mantidimaging\n"
     ]
    }
   ],
   "source": [
    "# Setup the package, this is done automatically with the startup scripts\n",
    "import os\n",
    "import sys\n",
    "\n",
    "# Setup some constants\n",
    "HOME = os.path.expanduser('~')\n",
    "CHADWICK_PATH = os.path.join(HOME, 'win_img', 'chadwick_insert')\n",
    "CHADWICK_SAMPLE_PATH = os.path.join(CHADWICK_PATH, 'Data')\n",
    "CHADWICK_DARK_PATH = os.path.join(CHADWICK_PATH, 'Dark_Tomo')\n",
    "CHADWICK_FLAT_PATH = os.path.join(CHADWICK_PATH, 'Open_Tomo_BeforeInsert')\n",
    "\n",
    "MANTIDIMAGING_PATH = os.path.join(HOME, 'mantidimaging')\n",
    "print(\"Home Dir ->\", HOME, \"\\nDataset Path ->\", CHADWICK_PATH, \"\\nPackage Path ->\", MANTIDIMAGING_PATH)\n",
    "# Append the ISIS Imaging path so that Python can find the package\n",
    "sys.path[0] = MANTIDIMAGING_PATH\n",
    "\n",
    "import mantidimaging\n",
    "print(\"Package name ->\", mantidimaging.__package__)"
   ]
  },
  {
   "cell_type": "code",
   "execution_count": 6,
   "metadata": {
    "collapsed": true,
    "scrolled": false
   },
   "outputs": [],
   "source": [
    "import matplotlib\n",
    "\n",
    "# Setup matplotlib to use the notebook backend, this will allow us to show images/histograms in here\n",
    "matplotlib.use('nbagg')\n",
    "\n",
    "from matplotlib import pyplot"
   ]
  },
  {
   "cell_type": "markdown",
   "metadata": {},
   "source": [
    "<br><br><br><br><br><br><br><br><br><br><br><br><br><br><br><br><br><br><br><br><br><br><br><br><br><br><br><br>\n",
    "# Loading data"
   ]
  },
  {
   "cell_type": "code",
   "execution_count": 7,
   "metadata": {
    "collapsed": true,
    "scrolled": false
   },
   "outputs": [],
   "source": [
    "# Load some data in, format for indices is [start, end, step]\n",
    "indices = [0, 1570, 100]\n",
    "images = mantidimaging.io.loader.load(CHADWICK_SAMPLE_PATH, CHADWICK_FLAT_PATH, CHADWICK_DARK_PATH, indices=indices)"
   ]
  },
  {
   "cell_type": "code",
   "execution_count": 8,
   "metadata": {
    "scrolled": false
   },
   "outputs": [
    {
     "ename": "NameError",
     "evalue": "name 'isis_imaging' is not defined",
     "output_type": "error",
     "traceback": [
      "\u001b[0;31m---------------------------------------------------------------------------\u001b[0m",
      "\u001b[0;31mNameError\u001b[0m                                 Traceback (most recent call last)",
      "\u001b[0;32m<ipython-input-8-9c764046d006>\u001b[0m in \u001b[0;36m<module>\u001b[0;34m()\u001b[0m\n\u001b[1;32m      4\u001b[0m \u001b[0;34m\u001b[0m\u001b[0m\n\u001b[1;32m      5\u001b[0m \u001b[0;31m# print the public methods\u001b[0m\u001b[0;34m\u001b[0m\u001b[0;34m\u001b[0m\u001b[0m\n\u001b[0;32m----> 6\u001b[0;31m \u001b[0mlist\u001b[0m\u001b[0;34m(\u001b[0m\u001b[0mfilter\u001b[0m\u001b[0;34m(\u001b[0m\u001b[0;32mlambda\u001b[0m \u001b[0mx\u001b[0m\u001b[0;34m:\u001b[0m \u001b[0;34m\"__\"\u001b[0m \u001b[0;32mnot\u001b[0m \u001b[0;32min\u001b[0m \u001b[0mx\u001b[0m\u001b[0;34m,\u001b[0m \u001b[0mdir\u001b[0m\u001b[0;34m(\u001b[0m\u001b[0misis_imaging\u001b[0m\u001b[0;34m.\u001b[0m\u001b[0mio\u001b[0m\u001b[0;34m.\u001b[0m\u001b[0mloader\u001b[0m\u001b[0;34m.\u001b[0m\u001b[0mImages\u001b[0m\u001b[0;34m)\u001b[0m\u001b[0;34m)\u001b[0m\u001b[0;34m)\u001b[0m\u001b[0;34m\u001b[0m\u001b[0m\n\u001b[0m",
      "\u001b[0;31mNameError\u001b[0m: name 'isis_imaging' is not defined"
     ]
    }
   ],
   "source": [
    "# The file returned is of a type Images, it allows us to transfer metadata with the images, \n",
    "# such as the filenames. The filenames are used in the GUI to show the current slice's original file name\n",
    "assert isinstance(images, mantidimaging.io.loader.Images)\n",
    "\n",
    "# print the public methods\n",
    "list(filter(lambda x: \"__\" not in x, dir(isis_imaging.io.loader.Images)))"
   ]
  },
  {
   "cell_type": "code",
   "execution_count": null,
   "metadata": {
    "collapsed": true,
    "scrolled": false
   },
   "outputs": [],
   "source": [
    "# Use matplotlib to build a small plotting window that visualises the image and a histogram\n",
    "def show(image):\n",
    "    fig, img_axes = pyplot.subplots(nrows=1,ncols=1)\n",
    "    \n",
    "    image_obj = img_axes.imshow(image.get_sample()[0], cmap='Greys_r')\n",
    "    \n",
    "    hist_axes = fig.add_axes([0.25, 0.925, 0.5, 0.08])\n",
    "    hist_axes.hist(image.get_sample()[0].flatten(), bins=2048)\n",
    "\n",
    "    pyplot.show()\n",
    "    \n",
    "# Due to this being added at a later time, show was already used a few times and I didn't want to break them\n",
    "# This uses the image argument directly instead of accessing the .get_sample() method\n",
    "def show2(image):\n",
    "    fig, img_axes = pyplot.subplots(nrows=1,ncols=1)\n",
    "    \n",
    "    image_obj = img_axes.imshow(image, cmap='Greys_r')\n",
    "    \n",
    "    hist_axes = fig.add_axes([0.25, 0.925, 0.5, 0.08])\n",
    "    hist_axes.hist(image.flatten(), bins=2048)\n",
    "\n",
    "    pyplot.show()"
   ]
  },
  {
   "cell_type": "code",
   "execution_count": null,
   "metadata": {
    "scrolled": false
   },
   "outputs": [],
   "source": [
    "show(images)\n",
    "\n",
    "# Flat and Dark images are usually between 30-60, \n",
    "# but we load all of them in and then take the average of all the images\n",
    "\n",
    "# Flat are also called Open Beam and are images that are \n",
    "# run after the instrument/experiment is set up, but without the actual sample\n",
    "show2(images.get_flat())\n",
    "\n",
    "# Dark images are gathered from running the camera with a \n",
    "# closed shutter, showing any bad pixels from the camera itself\n",
    "show2(images.get_dark())"
   ]
  },
  {
   "cell_type": "markdown",
   "metadata": {},
   "source": [
    "<br><br><br><br><br><br><br><br><br><br><br><br><br><br><br><br><br><br><br><br><br><br><br><br><br><br><br><br>\n",
    "# Background Correction"
   ]
  },
  {
   "cell_type": "code",
   "execution_count": null,
   "metadata": {
    "scrolled": false
   },
   "outputs": [],
   "source": [
    "from mantidimaging.core.algorithms import value_scaling\n",
    "from mantidimaging.core.filters import background_correction\n",
    "\n",
    "# Calculate scale factors, so that we can scale up the values \n",
    "# after ROI normalisation (more details in next step)\n",
    "scale_factors = value_scaling.create_factors(images.get_sample())\n",
    "\n",
    "# Background Correction\n",
    "# We need sample, flat (open beam without an object) and dark (closed shutter) images\n",
    "background_correction.execute(images.get_sample(), images.get_flat(), images.get_dark())\n",
    "\n",
    "# show result\n",
    "show(images)"
   ]
  },
  {
   "cell_type": "markdown",
   "metadata": {},
   "source": [
    "<br><br><br><br><br><br><br><br><br><br><br><br><br><br><br><br><br><br><br><br><br><br><br><br><br><br><br><br>\n",
    "# Some images might have slightly lower/higher values, due to changes in the flux"
   ]
  },
  {
   "cell_type": "code",
   "execution_count": null,
   "metadata": {
    "scrolled": true
   },
   "outputs": [],
   "source": [
    "from mantidimaging.gui.stack_visualiser import sv_histogram\n",
    "\n",
    "# Show difference in histograms, but we don't want to look at two different plots\n",
    "sv_histogram.show_transparent(images.get_sample()[0].flatten(), \"Normal Contrast\", \"\")\n",
    "sv_histogram.show_transparent(images.get_sample()[5].flatten(), \"Low Contrast\", \"\")"
   ]
  },
  {
   "cell_type": "markdown",
   "metadata": {},
   "source": [
    "# But we don't really want to look at 2 different histograms"
   ]
  },
  {
   "cell_type": "code",
   "execution_count": null,
   "metadata": {
    "collapsed": true,
    "scrolled": true
   },
   "outputs": [],
   "source": [
    "# import package from isis_imaging's GUI part\n",
    "from mantidimaging.gui.stack_visualiser import sv_histogram\n",
    "\n",
    "# python abuse to plot the histograms on the same plot, it works by default in the package\n",
    "\n",
    "def plot_histograms_magically():\n",
    "    # save the original function reference\n",
    "    temp_func_storage = sv_histogram._show\n",
    "    def _temporary_empty_function(): pass\n",
    "    \n",
    "    # set to a function that does nothing\n",
    "    sv_histogram._show = _temporary_empty_function\n",
    "\n",
    "    sv_histogram.show_transparent(images.get_sample()[0].flatten(), \"Normal Contrast\", \"\")\n",
    "\n",
    "    # restore so that the plot is shown next time\n",
    "    sv_histogram._show = temp_func_storage\n",
    "\n",
    "    sv_histogram.show_transparent(images.get_sample()[5].flatten(), \"Low Contrast\", \"Magic\")"
   ]
  },
  {
   "cell_type": "code",
   "execution_count": null,
   "metadata": {
    "scrolled": false
   },
   "outputs": [],
   "source": [
    "plot_histograms_magically()"
   ]
  },
  {
   "cell_type": "markdown",
   "metadata": {},
   "source": [
    "<br><br><br><br><br><br><br><br><br><br><br><br><br><br><br><br><br><br><br><br><br><br><br><br><br><br><br><br>\n",
    "# Normalisation by Region of Interest"
   ]
  },
  {
   "cell_type": "code",
   "execution_count": null,
   "metadata": {
    "scrolled": false
   },
   "outputs": [],
   "source": [
    "AIR_REGION = (1348, 732, 1436, 846)\n",
    "print(\"Air Region\", *AIR_REGION)\n",
    "\n",
    "\n",
    "\n",
    "# Normalisation by Air Region (Contrast Normalisation)\n",
    "\n",
    "from isis_imaging.core.filters import roi_normalisation\n",
    "\n",
    "# Normalise by region of interest\n",
    "roi_normalisation.execute(images.get_sample(), AIR_REGION)\n",
    "\n",
    "# and scale up the values to uint16 range (0-65535)\n",
    "value_scaling.apply_factor(images.get_sample(), scale_factors)"
   ]
  },
  {
   "cell_type": "code",
   "execution_count": null,
   "metadata": {},
   "outputs": [],
   "source": [
    "show(images)"
   ]
  },
  {
   "cell_type": "code",
   "execution_count": null,
   "metadata": {
    "scrolled": false
   },
   "outputs": [],
   "source": [
    "plot_histograms_magically()"
   ]
  },
  {
   "cell_type": "markdown",
   "metadata": {},
   "source": [
    "<br><br><br><br><br><br><br><br><br><br><br><br><br><br><br><br><br><br><br><br><br><br><br><br><br><br><br><br>\n",
    "# Region of Interest crop"
   ]
  },
  {
   "cell_type": "code",
   "execution_count": null,
   "metadata": {
    "scrolled": false
   },
   "outputs": [],
   "source": [
    "ROI = (422, 6, 1492, 1970)\n",
    "print(\"ROI\", *ROI)\n",
    "\n",
    "from mantidimaging.core.filters import crop_coords\n",
    "\n",
    "print(\"The Region of Interest that we are cropping\", ROI)\n",
    "images.sample, images.flat, images.dark = crop_coords.execute(images.get_sample(), ROI)"
   ]
  },
  {
   "cell_type": "code",
   "execution_count": null,
   "metadata": {},
   "outputs": [],
   "source": [
    "show(images)"
   ]
  },
  {
   "cell_type": "code",
   "execution_count": null,
   "metadata": {
    "scrolled": false
   },
   "outputs": [],
   "source": [
    "plot_histograms_magically()"
   ]
  },
  {
   "cell_type": "markdown",
   "metadata": {},
   "source": [
    "## We have not removed _any_ of the data!\n",
    "## But the noise counts are now a lot less\n",
    "### Before: 120,000\n",
    "### Now: 42,000"
   ]
  },
  {
   "cell_type": "markdown",
   "metadata": {},
   "source": [
    "<br><br><br><br><br><br><br><br><br><br><br><br><br><br><br><br><br><br><br><br><br><br><br><br><br><br><br><br>\n",
    "# Reducing the noise further\n",
    "\n",
    "### Values of noise and data are very distinct"
   ]
  },
  {
   "cell_type": "code",
   "execution_count": null,
   "metadata": {
    "scrolled": false
   },
   "outputs": [],
   "source": [
    "show(images)\n",
    "plot_histograms_magically()"
   ]
  },
  {
   "cell_type": "code",
   "execution_count": null,
   "metadata": {
    "scrolled": false
   },
   "outputs": [],
   "source": [
    "CLIP_MIN = 0.01\n",
    "CLIP_MAX = 6200\n",
    "\n",
    "from mantidimaging.core.filters import clip_values\n",
    "\n",
    "print(\"Remove minimum values\", CLIP_MIN)\n",
    "print(\"Remove maximum values\", CLIP_MAX)\n",
    "clip_values.execute(images.get_sample(), CLIP_MIN, CLIP_MAX)"
   ]
  },
  {
   "cell_type": "code",
   "execution_count": null,
   "metadata": {},
   "outputs": [],
   "source": [
    "show(images)"
   ]
  },
  {
   "cell_type": "code",
   "execution_count": null,
   "metadata": {
    "collapsed": true
   },
   "outputs": [],
   "source": [
    "plot_histograms_magically()"
   ]
  },
  {
   "cell_type": "code",
   "execution_count": null,
   "metadata": {
    "scrolled": false
   },
   "outputs": [],
   "source": [
    "from mantidimaging.core.filters import minus_log\n",
    "\n",
    "# Invert the histogram and reduce the range\n",
    "images.sample = minus_log.execute(images.get_sample())"
   ]
  },
  {
   "cell_type": "code",
   "execution_count": null,
   "metadata": {},
   "outputs": [],
   "source": [
    "show(images)"
   ]
  },
  {
   "cell_type": "code",
   "execution_count": null,
   "metadata": {},
   "outputs": [],
   "source": [
    "plot_histograms_magically()"
   ]
  }
 ],
 "metadata": {
  "kernelspec": {
   "display_name": "Python [default]",
   "language": "python",
   "name": "python3"
  },
  "language_info": {
   "codemirror_mode": {
    "name": "ipython",
    "version": 3
   },
   "file_extension": ".py",
   "mimetype": "text/x-python",
   "name": "python",
   "nbconvert_exporter": "python",
   "pygments_lexer": "ipython3",
   "version": "3.5.3"
  }
 },
 "nbformat": 4,
 "nbformat_minor": 2
}
