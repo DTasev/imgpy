{
 "cells": [
  {
   "cell_type": "markdown",
   "metadata": {},
   "source": [
    "# Do Automatic/Manual COR\n",
    "\n",
    "Do reconstruction with bad cors\n",
    "\n",
    "Do reconstruction with good cors\n",
    "\n",
    "Do post-processing"
   ]
  },
  {
   "cell_type": "code",
   "execution_count": null,
   "metadata": {
    "collapsed": true
   },
   "outputs": [],
   "source": [
    "# Setup the package, this is done automatically with the startup scripts\n",
    "import os\n",
    "import sys\n",
    "\n",
    "# Setup some constants\n",
    "HOME = os.path.expanduser('~')\n",
    "CHADWICK_PATH = os.path.join(HOME, 'temp', 'presentation')\n",
    "CHADWICK_SAMPLE_PATH = os.path.join(CHADWICK_PATH, 'pre_processed')\n",
    "SINOGRAMS_PATH = os.path.join(CHADWICK_PATH, 'sinograms')\n",
    "MANUAL_COR_OUTPUT_PATH = os.path.join(CHADWICK_PATH, 'manual_cor')\n",
    "OUTPUT_RECON_PATH = CHADWICK_PATH\n",
    "\n",
    "\n",
    "ISIS_IMAGING_PATH = os.path.join(HOME, 'isis_imaging')\n",
    "print(HOME, CHADWICK_PATH, ISIS_IMAGING_PATH)\n",
    "sys.path[0]=ISIS_IMAGING_PATH\n",
    "\n",
    "import isis_imaging\n",
    "print(isis_imaging.__package__)\n",
    "\n",
    "# Setup matplotlib to use the notebook backend\n",
    "import matplotlib\n",
    "matplotlib.use('nbagg')\n",
    "from matplotlib import pyplot\n",
    "\n",
    "# Create matplotlib objects\n",
    "def show(image, idx=0):\n",
    "    fig, img_axes = pyplot.subplots(nrows=1,ncols=1)\n",
    "    \n",
    "    image_obj = img_axes.imshow(image.get_sample()[idx], cmap='Greys_r')\n",
    "    \n",
    "    hist_axes = fig.add_axes([0.25, 0.925, 0.5, 0.08])\n",
    "    hist_axes.hist(image.get_sample().flatten(), bins=2048)\n",
    "\n",
    "    pyplot.show()\n",
    "\n",
    "# import package from isis_imaging's GUI part\n",
    "from isis_imaging.gui.stack_visualiser import sv_histogram\n",
    "\n",
    "# python abuse to plot the histograms on the same plot, it works by default in the package\n",
    "\n",
    "def plot_histograms_magically(ylim=None):\n",
    "    # save the original function reference\n",
    "    temp_func_storage = sv_histogram._show\n",
    "    def _temporary_empty_function(): pass\n",
    "    # set to a function that does nothing\n",
    "    sv_histogram._show = _temporary_empty_function\n",
    "\n",
    "    sv_histogram.show_transparent(images.get_sample()[0].flatten(), \"Normal Contrast\", \"\")\n",
    "\n",
    "    # restore so that the plot is shown next time\n",
    "    sv_histogram._show = temp_func_storage\n",
    "\n",
    "    sv_histogram.show_transparent(images.get_sample()[5].flatten(), \"Low Contrast\", \"Magic\")"
   ]
  },
  {
   "cell_type": "code",
   "execution_count": null,
   "metadata": {
    "collapsed": true
   },
   "outputs": [],
   "source": [
    "# Load some data in, format for indices is [start, end, step]\n",
    "indices = [0, 1570, 100]\n",
    "images = isis_imaging.io.loader.load(CHADWICK_SAMPLE_PATH, indices=indices)\n",
    "show(images)"
   ]
  },
  {
   "cell_type": "code",
   "execution_count": null,
   "metadata": {
    "collapsed": true
   },
   "outputs": [],
   "source": [
    "import subprocess\n",
    "result = subprocess.run(['isis_imaging', '-i', CHADWICK_SAMPLE_PATH, \\\n",
    "                         '--indices', str(indices[0]), str(indices[1]), '1500', \\\n",
    "                         '--imopr', 'cor'], stdout=subprocess.PIPE)\n",
    "print(result.stdout.decode())"
   ]
  },
  {
   "cell_type": "raw",
   "metadata": {},
   "source": [
    "\n",
    "\n",
    "\n",
    "\n",
    "\n",
    "\n",
    "\n",
    "\n",
    "\n",
    "\n",
    "\n",
    "\n",
    "\n",
    "\n",
    "\n",
    "\n",
    "\n",
    "\n",
    "\n",
    "\n",
    "\n",
    "\n",
    "\n",
    "\n",
    "\n",
    "\n",
    "\n",
    "\n",
    "\n",
    "Running COR for index 0 [ 688.8125]\n",
    "Running COR for index 100 [ 1077.5234375]\n",
    "Running COR for index 200 [ 690.484375]\n",
    "Running COR for index 300 [ 687.140625]\n",
    "Running COR for index 400 [ 683.796875]\n",
    "Running COR for index 500 [ 677.109375]\n",
    "Running COR for index 600 [ 671.2578125]\n",
    "Running COR for index 700 [ 667.078125]\n",
    "Running COR for index 800 [ 662.8984375]\n",
    "Running COR for index 900 [ 661.2265625]\n",
    "Running COR for index 1000 [ 662.48046875]\n",
    "Running COR for index 1100 [ 665.40625]\n",
    "Running COR for index 1200 [ 670.00390625]\n",
    "Running COR for index 1300 [ 676.2734375]\n",
    "Running COR for index 1400 [ 681.2890625]\n",
    "Running COR for index 1500 [ 686.3046875]"
   ]
  },
  {
   "cell_type": "markdown",
   "metadata": {},
   "source": [
    "<br><br><br><br><br><br><br><br><br><br><br><br><br><br><br><br><br><br><br><br><br><br><br><br><br><br><br><br>\n",
    "\n",
    "# Converting to Sinograms\n",
    "\n",
    "<br>\n",
    "## Sinogram - a row from each image\n",
    "<br>\n",
    "\n",
    "### This means that for sinograms you need _ALL_ of the information along the Z axis"
   ]
  },
  {
   "cell_type": "code",
   "execution_count": null,
   "metadata": {
    "collapsed": true
   },
   "outputs": [],
   "source": [
    "# This will take a long time\n",
    "# import subprocess\n",
    "# result = subprocess.run(['isis_imaging', '-i', CHADWICK_SAMPLE_PATH, \\\n",
    "#                         '-o', SINOGRAMS_PATH, '--convert', '--swap-axes'], stdout=subprocess.PIPE)\n",
    "# print(result.stdout.decode())"
   ]
  },
  {
   "cell_type": "markdown",
   "metadata": {},
   "source": [
    "# How do sinograms look"
   ]
  },
  {
   "cell_type": "code",
   "execution_count": null,
   "metadata": {
    "collapsed": true
   },
   "outputs": [],
   "source": [
    "sinogram_indices = [0, 1960, 100]\n",
    "sinograms = isis_imaging.io.loader.load(SINOGRAMS_PATH, indices=sinogram_indices)\n",
    "show(sinograms, 3)"
   ]
  },
  {
   "cell_type": "code",
   "execution_count": null,
   "metadata": {
    "collapsed": true
   },
   "outputs": [],
   "source": [
    "import subprocess\n",
    "result = subprocess.run(['isis_imaging', '-i', SINOGRAMS_PATH, \\\n",
    "                         '--indices', '550', '750', '50', \\\n",
    "                         '--imopr', 'cor'], stdout=subprocess.PIPE)\n",
    "print(result.stdout.decode())"
   ]
  },
  {
   "cell_type": "code",
   "execution_count": null,
   "metadata": {
    "collapsed": true
   },
   "outputs": [],
   "source": [
    "import subprocess\n",
    "result = subprocess.run(['isis_imaging', '-i', SINOGRAMS_PATH, \\\n",
    "                         '-o', MANUAL_COR_OUTPUT_PATH, \\\n",
    "                         '--indices', '550', '750', '50', \\\n",
    "                         '--imopr', '530', '550', '1', 'corwrite'], stdout=subprocess.PIPE)\n",
    "print(result.stdout.decode())"
   ]
  },
  {
   "cell_type": "code",
   "execution_count": null,
   "metadata": {
    "collapsed": true
   },
   "outputs": [],
   "source": [
    "# Correct Reconstruction COR parameters\n",
    "SLICE_CORS = [\n",
    "  # Slice ID, Center of Rotation\n",
    "    ('422',       '542'), \n",
    "    ('822',       '540'), \n",
    "    ('1222',      '540'), \n",
    "    ('1622',      '537'), \n",
    "    ('1822',      '536')\n",
    "]\n",
    "\n",
    "# Python 3 needs the list(...) as a gentle nudge, because zip is a generator\n",
    "SLICE_IDS, CORS = list(zip(*SLICE_CORS))\n",
    "print(\"Slices\", SLICE_IDS)\n",
    "print(\"Centers of Rotation\", CORS)"
   ]
  },
  {
   "cell_type": "code",
   "execution_count": null,
   "metadata": {
    "collapsed": true
   },
   "outputs": [],
   "source": [
    "# This will crash because we have not provided the same amount of CORs and slice IDs\n",
    "\n",
    "import subprocess\n",
    "result = subprocess.run(['isis_imaging', '-i', SINOGRAMS_PATH, \\\n",
    "                         '-o', OUTPUT_RECON_PATH, \\\n",
    "                         '--reconstruction', \\\n",
    "                         '--cors', *CORS, \\\n",
    "                         '--cor-slices', *(*SLICE_IDS, '1922',), \\\n",
    "                         '-t', 'tomopy', \\\n",
    "                         '-a', 'gridrec'], stdout=subprocess.PIPE, stderr=subprocess.PIPE)\n",
    "print(result.stderr.decode())"
   ]
  },
  {
   "cell_type": "code",
   "execution_count": null,
   "metadata": {
    "collapsed": true
   },
   "outputs": [],
   "source": [
    "# figure out why it doesn't work\n",
    "\n",
    "import subprocess\n",
    "result = subprocess.run(['isis_imaging', '-i', SINOGRAMS_PATH, \\\n",
    "                         '-o', OUTPUT_RECON_PATH, \\\n",
    "                         '--reconstruction', \\\n",
    "                         '--cors', *CORS, \\\n",
    "                         '--cor-slices', *SLICE_IDS], stdout=subprocess.PIPE)\n",
    "print(result.stdout.decode())"
   ]
  }
 ],
 "metadata": {
  "kernelspec": {
   "display_name": "Python [default]",
   "language": "python",
   "name": "python3"
  },
  "language_info": {
   "codemirror_mode": {
    "name": "ipython",
    "version": 3
   },
   "file_extension": ".py",
   "mimetype": "text/x-python",
   "name": "python",
   "nbconvert_exporter": "python",
   "pygments_lexer": "ipython3",
   "version": "3.5.3"
  }
 },
 "nbformat": 4,
 "nbformat_minor": 2
}
